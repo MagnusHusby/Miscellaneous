{
 "cells": [
  {
   "cell_type": "markdown",
   "metadata": {},
   "source": [
    "# Likninger og algoritmer\n",
    "\n",
    "#### Babylonsk rotalgoritme\n",
    "\n",
    "Regner ut roten av et tall $ a $ ved å sette det inn i $ x = \\frac{1}{2} * (x + \\frac{a}{x}) $ flere ganger."
   ]
  },
  {
   "cell_type": "code",
   "execution_count": null,
   "metadata": {},
   "outputs": [],
   "source": [
    "x = 100\n",
    "a = 12\n",
    "\n",
    "for i in range(10):\n",
    "    x = 0.5 * (x + a/x)\n",
    "\n",
    "    print(x)"
   ]
  },
  {
   "cell_type": "markdown",
   "metadata": {},
   "source": [
    "#### Halveringsmetoden for å løse likninger\n",
    "\n",
    "Finne nullpunktet i et intervall er akkurat det samme som å finne løsningen på en likning."
   ]
  },
  {
   "cell_type": "code",
   "execution_count": 19,
   "metadata": {},
   "outputs": [
    {
     "name": "stdout",
     "output_type": "stream",
     "text": [
      "Nullpunktet er 1.3063395069002581 og løkka kjørte 37 ganger.\n"
     ]
    }
   ],
   "source": [
    "def f(x):\n",
    "        return 3*x**5 - 2*x**2 - 8\n",
    "\n",
    "def halveringsmetoden(a, b, f, tol = 10E-10):\n",
    "    i = 0\n",
    "    m = (a + b) / 2\n",
    "    while abs(f(m)) > tol:\n",
    "        if f(a) * f(m) < 0:\n",
    "            b = m\n",
    "        if f(b) * f(m) < 0:\n",
    "            a = m\n",
    "        m = (a + b) / 2\n",
    "        i += 1\n",
    "    return m, i\n",
    "\n",
    "m, i = halveringsmetoden(-5, 10, f)\n",
    "print(\"Nullpunktet er\", m, \"og løkka kjørte\", i, \"ganger.\")"
   ]
  },
  {
   "cell_type": "code",
   "execution_count": null,
   "metadata": {},
   "outputs": [],
   "source": []
  }
 ],
 "metadata": {
  "kernelspec": {
   "display_name": "Python 3",
   "language": "python",
   "name": "python3"
  },
  "language_info": {
   "codemirror_mode": {
    "name": "ipython",
    "version": 3
   },
   "file_extension": ".py",
   "mimetype": "text/x-python",
   "name": "python",
   "nbconvert_exporter": "python",
   "pygments_lexer": "ipython3",
   "version": "3.7.3"
  }
 },
 "nbformat": 4,
 "nbformat_minor": 2
}
