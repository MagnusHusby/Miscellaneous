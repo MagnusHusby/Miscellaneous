{
 "cells": [
  {
   "cell_type": "markdown",
   "metadata": {},
   "source": [
    "# Likninger og algoritmer\n",
    "\n",
    "### Babylonsk rotalgoritme\n",
    "\n",
    "Regner ut roten av et tall $ a $ ved å sette det inn i $ x = \\frac{1}{2} * (x + \\frac{a}{x}) $ flere ganger."
   ]
  },
  {
   "cell_type": "code",
   "execution_count": null,
   "metadata": {},
   "outputs": [],
   "source": [
    "x = 100\n",
    "a = 12\n",
    "\n",
    "for i in range(10):\n",
    "    x = 0.5 * (x + a/x)\n",
    "\n",
    "    print(x)"
   ]
  },
  {
   "cell_type": "markdown",
   "metadata": {},
   "source": [
    "### Halveringsmetoden for å løse likninger\n",
    "\n",
    "Finne nullpunktet i et intervall er akkurat det samme som å finne løsningen på en likning."
   ]
  },
  {
   "cell_type": "code",
   "execution_count": 25,
   "metadata": {},
   "outputs": [
    {
     "name": "stdout",
     "output_type": "stream",
     "text": [
      "Nullpunktet er 1.3063395069002581 og løkka kjørte 37 ganger.\n"
     ]
    }
   ],
   "source": [
    "def f(x):\n",
    "        return 3*x**5 - 2*x**2 - 8\n",
    "\n",
    "def halveringsmetoden(a, b, f, tol = 10E-10):\n",
    "    i = 0\n",
    "    m = (a + b) / 2\n",
    "    while abs(f(m)) > tol:\n",
    "        if f(a) * f(m) < 0:\n",
    "            b = m\n",
    "        if f(b) * f(m) < 0:\n",
    "            a = m\n",
    "        m = (a + b) / 2\n",
    "        i += 1\n",
    "    return m, i\n",
    "\n",
    "m, i = halveringsmetoden(-5, 10, f)\n",
    "print(\"Nullpunktet er\", m, \"og løkka kjørte\", i, \"ganger.\")"
   ]
  },
  {
   "cell_type": "markdown",
   "metadata": {},
   "source": [
    "### Newtons metode\n",
    "\n",
    "Vi har en kontinuerlig funksjon f. Vi tilnærmer nullpunktet til f med nullpunktet til tangentene til f(x).\n",
    "\n",
    "$$ x_{n+1} = x_{n} - \\frac{f(x_{n})}{f'(x_{n})} $$ \n",
    "\n",
    "Fordelen er at man kan ha mye større intervaller som blir utregnet mye fortere.\n",
    "Ulempene er at algoritmen takler lokale topp- og bunnpunkter dårlig og den krever at man vet den deriverte."
   ]
  },
  {
   "cell_type": "code",
   "execution_count": 35,
   "metadata": {},
   "outputs": [
    {
     "name": "stdout",
     "output_type": "stream",
     "text": [
      "Nullpunktet er 2.0000000000164926 og løkka kjørte 14 ganger.\n"
     ]
    }
   ],
   "source": [
    "def f(x):\n",
    "    return x**2 - 4\n",
    "\n",
    "def fder(x):\n",
    "    return 2*x\n",
    "\n",
    "def newtons(x, f, fder,tol = 10E-10, N=100):\n",
    "    i = 0\n",
    "    while abs(f(x)) > tol and i < N:\n",
    "        x = x - f(x)/fder(x)\n",
    "        i += 1\n",
    "    return x, i\n",
    "\n",
    "x, i = newtons(2500, f, fder)\n",
    "print(\"Nullpunktet er\", x, \"og løkka kjørte\", i, \"ganger.\")"
   ]
  },
  {
   "cell_type": "markdown",
   "metadata": {},
   "source": [
    "### Oppgave \"Skyte spurv med kanoner\"\n",
    "#### a)\n",
    "\n",
    "Kulens høyde gitt en viss tid $y(t)$ er gitt ved ???\n",
    "\n",
    "#### b)\n",
    "\n",
    "Kulens strekning $x(t)$ er gitt ved $x(t)=v_{0} \\cdot \\cos{\\theta} \\cdot t$ fordi, hvis man ser for seg kulens start som en trekant, med en normal linje mot x-aksen, som viser strekningen, må man finne denne x-verdien, som er den nærmestliggende kateten til utskytningvinkelen.\n",
    "\n",
    "#### c) d) e)"
   ]
  },
  {
   "cell_type": "code",
   "execution_count": 3,
   "metadata": {},
   "outputs": [
    {
     "name": "stdout",
     "output_type": "stream",
     "text": [
      "Tid:  1.1340073188072652\n",
      "Strekning:  19.41309090140481\n",
      "For vinkel 0.5235987755982988 radianer er avstanden 17.67742463096227\n",
      "For vinkel 0.6283185307179586 radianer er avstanden 16.513761467891637\n",
      "For vinkel 0.7853981633974483 radianer er avstanden 14.433556770788265\n",
      "For vinkel 1.0471975511965976 radianer er avstanden 10.20606586926539\n"
     ]
    }
   ],
   "source": [
    "from pylab import math as m\n",
    "\n",
    "g = 9.81\n",
    "v0 = 18\n",
    "\n",
    "def y(t, theta = m.pi/10):\n",
    "    return v0 * m.sin(theta) * t - (1/2) * g * t**2\n",
    "\n",
    "def yder(t, theta = m.pi/10):\n",
    "    return v0 * m.sin(theta) - g * t\n",
    "\n",
    "def x(t, theta):\n",
    "    return v0 * m.cos(theta) * t\n",
    "\n",
    "def newtons(f, fder, x, tol = 10E-10):\n",
    "    i = 0\n",
    "    while abs(f(x)) > tol and i < 100:\n",
    "        x = x - f(x)/fder(x)\n",
    "        i += 1\n",
    "    return x, i\n",
    "\n",
    "tid, i = newtons(y, yder, 20)\n",
    "print(\"Tid: \", tid)\n",
    "\n",
    "dist = x(tid, m.pi/10)\n",
    "print(\"Strekning: \", dist)\n",
    "\n",
    "# Oppgave e): Kjører gjennom en liste med forskjellige vinkler og finner distansen med x-funksjonen\n",
    "\n",
    "thetalist = [m.pi/6, m.pi/5, m.pi/4, m.pi/3]\n",
    "\n",
    "for theta_n in thetalist:\n",
    "    print(\"For vinkel\", theta_n, \"radianer er avstanden\", x(tid, theta_n), \"meter.\")"
   ]
  },
  {
   "cell_type": "markdown",
   "metadata": {},
   "source": [
    "#### f)\n",
    "\n",
    "Vi noterte på pcen til Nora og dessverre mistet vi alle underveisdataene, og beholdt kun de gjennomsnittlige verdiene. Ballen gikk i snitt 4.67 meter med en startfart på 5.83 m/s. Da skjøt vi med en vinkel (theta) på 30 deg eller 0.524 rad (tilsvarende $\\frac{\\pi}{6}$)."
   ]
  },
  {
   "cell_type": "code",
   "execution_count": 4,
   "metadata": {},
   "outputs": [
    {
     "name": "stdout",
     "output_type": "stream",
     "text": [
      "Tid:  0.5942915392456904\n",
      "Strekning:  3.2951442229057677\n"
     ]
    }
   ],
   "source": [
    "g = 9.81\n",
    "v0 = 5.83\n",
    "\n",
    "def y(t, theta = m.pi/6):\n",
    "    return v0 * m.sin(theta) * t - (1/2) * g * t**2\n",
    "\n",
    "def yder(t, theta = m.pi/6):\n",
    "    return v0 * m.sin(theta) - g * t\n",
    "\n",
    "def x(t, theta):\n",
    "    return v0 * m.cos(theta) * t\n",
    "\n",
    "def newtons(f, fder, x, tol = 10E-10):\n",
    "    i = 0\n",
    "    while abs(f(x)) > tol and i < 100:\n",
    "        x = x - f(x)/fder(x)\n",
    "        i += 1\n",
    "    return x, i\n",
    "\n",
    "tid, i = newtons(y, yder, 20)\n",
    "print(\"Tid: \", tid)\n",
    "\n",
    "dist = x(tid, m.pi/10)\n",
    "print(\"Strekning: \", dist)"
   ]
  },
  {
   "cell_type": "markdown",
   "metadata": {},
   "source": [
    "Strekningen er feil, men det er å forvente, ettersom en slik teoretisk utregning ikke regner med variabler som luftmotstand. "
   ]
  }
 ],
 "metadata": {
  "kernelspec": {
   "display_name": "Python 3",
   "language": "python",
   "name": "python3"
  },
  "language_info": {
   "codemirror_mode": {
    "name": "ipython",
    "version": 3
   },
   "file_extension": ".py",
   "mimetype": "text/x-python",
   "name": "python",
   "nbconvert_exporter": "python",
   "pygments_lexer": "ipython3",
   "version": "3.7.3"
  }
 },
 "nbformat": 4,
 "nbformat_minor": 2
}
